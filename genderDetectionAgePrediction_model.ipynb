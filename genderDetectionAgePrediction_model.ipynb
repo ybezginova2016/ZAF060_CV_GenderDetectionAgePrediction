{
  "cells": [
    {
      "cell_type": "code",
      "execution_count": 1,
      "metadata": {
        "id": "0AlTbJ3QJ_Zv"
      },
      "outputs": [],
      "source": [
        "import random\n",
        "import pandas as pd\n",
        "import numpy as np\n",
        "import seaborn as sns\n",
        "import matplotlib.pyplot as plt\n",
        "\n",
        "import os\n",
        "from PIL import Image, ImageOps\n",
        "from sklearn.model_selection import train_test_split,StratifiedShuffleSplit\n",
        "\n",
        "from keras.models import Sequential\n",
        "from keras.layers import Conv2D, MaxPooling2D, Activation, Dropout, Flatten, Dense\n",
        "from tensorflow.keras import Input, Model\n",
        "\n",
        "from keras import optimizers\n",
        "from keras.preprocessing.image import ImageDataGenerator\n",
        "import tensorflow as tf\n",
        "\n",
        "import warnings\n",
        "warnings.filterwarnings('ignore')"
      ]
    },
    {
      "cell_type": "markdown",
      "source": [
        "# __Set Parmeters__"
      ],
      "metadata": {
        "id": "EGlvQjHGZyzZ"
      }
    },
    {
      "cell_type": "code",
      "execution_count": 2,
      "metadata": {
        "id": "G7yvu5R2KRxW"
      },
      "outputs": [],
      "source": [
        "n_epochs=30\n",
        "n_batch_size=34\n",
        "size= 200\n",
        "# True to use less number of samples during the training trials, False to obtain final trained model using all samples.\n",
        "developing_stage=True "
      ]
    },
    {
      "cell_type": "markdown",
      "source": [
        "# __Reading and exploring data__"
      ],
      "metadata": {
        "id": "KtPNAEYpZ5yH"
      }
    },
    {
      "cell_type": "code",
      "execution_count": 3,
      "metadata": {
        "colab": {
          "base_uri": "https://localhost:8080/"
        },
        "id": "Lsgzk_xXKrV7",
        "outputId": "a2b2e53a-8454-46d8-88e2-e4a1595ab8d2"
      },
      "outputs": [
        {
          "output_type": "stream",
          "name": "stdout",
          "text": [
            "Downloading utkface-new.zip to /content\n",
            "100% 331M/331M [00:10<00:00, 41.6MB/s]\n",
            "100% 331M/331M [00:10<00:00, 33.0MB/s]\n"
          ]
        }
      ],
      "source": [
        "!pip install -q kaggle\n",
        "! mkdir ~/.kaggle\n",
        "! cp kaggle.json ~/.kaggle/\n",
        "! chmod 600 ~/.kaggle/kaggle.json\n",
        "!kaggle datasets download -d jangedoo/utkface-new"
      ]
    },
    {
      "cell_type": "code",
      "execution_count": 4,
      "metadata": {
        "id": "Xa-WM2ERKtfW"
      },
      "outputs": [],
      "source": [
        "!unzip -qq /content/utkface-new.zip"
      ]
    },
    {
      "cell_type": "code",
      "execution_count": 5,
      "metadata": {
        "id": "5ejh3HHPPn47"
      },
      "outputs": [],
      "source": [
        "images = []\n",
        "ages = []\n",
        "genders = []\n",
        "if developing_stage:\n",
        "    last_idx=5000   \n",
        "else:\n",
        "    last_idx=-1\n",
        "\n",
        "for i in os.listdir('/content/UTKFace')[:last_idx]:\n",
        "    split = i.split('_')\n",
        "    ages.append(int(split[0]))\n",
        "    genders.append(int(split[1]))\n",
        "    images.append(Image.open('/content/UTKFace/'+i))"
      ]
    },
    {
      "cell_type": "code",
      "execution_count": 6,
      "metadata": {
        "colab": {
          "base_uri": "https://localhost:8080/",
          "height": 206
        },
        "id": "WfhckuumP39S",
        "outputId": "6f82ef2c-ea0f-4dcc-beee-1c08d1bf2281"
      },
      "outputs": [
        {
          "output_type": "execute_result",
          "data": {
            "text/plain": [
              "                                              Images  Ages  Genders\n",
              "0  <PIL.JpegImagePlugin.JpegImageFile image mode=...     1        0\n",
              "1  <PIL.JpegImagePlugin.JpegImageFile image mode=...    35        0\n",
              "2  <PIL.JpegImagePlugin.JpegImageFile image mode=...    90        0\n",
              "3  <PIL.JpegImagePlugin.JpegImageFile image mode=...    62        0\n",
              "4  <PIL.JpegImagePlugin.JpegImageFile image mode=...    65        0"
            ],
            "text/html": [
              "\n",
              "  <div id=\"df-cc245296-3afa-4452-88f9-509bd1291bfd\">\n",
              "    <div class=\"colab-df-container\">\n",
              "      <div>\n",
              "<style scoped>\n",
              "    .dataframe tbody tr th:only-of-type {\n",
              "        vertical-align: middle;\n",
              "    }\n",
              "\n",
              "    .dataframe tbody tr th {\n",
              "        vertical-align: top;\n",
              "    }\n",
              "\n",
              "    .dataframe thead th {\n",
              "        text-align: right;\n",
              "    }\n",
              "</style>\n",
              "<table border=\"1\" class=\"dataframe\">\n",
              "  <thead>\n",
              "    <tr style=\"text-align: right;\">\n",
              "      <th></th>\n",
              "      <th>Images</th>\n",
              "      <th>Ages</th>\n",
              "      <th>Genders</th>\n",
              "    </tr>\n",
              "  </thead>\n",
              "  <tbody>\n",
              "    <tr>\n",
              "      <th>0</th>\n",
              "      <td>&lt;PIL.JpegImagePlugin.JpegImageFile image mode=...</td>\n",
              "      <td>1</td>\n",
              "      <td>0</td>\n",
              "    </tr>\n",
              "    <tr>\n",
              "      <th>1</th>\n",
              "      <td>&lt;PIL.JpegImagePlugin.JpegImageFile image mode=...</td>\n",
              "      <td>35</td>\n",
              "      <td>0</td>\n",
              "    </tr>\n",
              "    <tr>\n",
              "      <th>2</th>\n",
              "      <td>&lt;PIL.JpegImagePlugin.JpegImageFile image mode=...</td>\n",
              "      <td>90</td>\n",
              "      <td>0</td>\n",
              "    </tr>\n",
              "    <tr>\n",
              "      <th>3</th>\n",
              "      <td>&lt;PIL.JpegImagePlugin.JpegImageFile image mode=...</td>\n",
              "      <td>62</td>\n",
              "      <td>0</td>\n",
              "    </tr>\n",
              "    <tr>\n",
              "      <th>4</th>\n",
              "      <td>&lt;PIL.JpegImagePlugin.JpegImageFile image mode=...</td>\n",
              "      <td>65</td>\n",
              "      <td>0</td>\n",
              "    </tr>\n",
              "  </tbody>\n",
              "</table>\n",
              "</div>\n",
              "      <button class=\"colab-df-convert\" onclick=\"convertToInteractive('df-cc245296-3afa-4452-88f9-509bd1291bfd')\"\n",
              "              title=\"Convert this dataframe to an interactive table.\"\n",
              "              style=\"display:none;\">\n",
              "        \n",
              "  <svg xmlns=\"http://www.w3.org/2000/svg\" height=\"24px\"viewBox=\"0 0 24 24\"\n",
              "       width=\"24px\">\n",
              "    <path d=\"M0 0h24v24H0V0z\" fill=\"none\"/>\n",
              "    <path d=\"M18.56 5.44l.94 2.06.94-2.06 2.06-.94-2.06-.94-.94-2.06-.94 2.06-2.06.94zm-11 1L8.5 8.5l.94-2.06 2.06-.94-2.06-.94L8.5 2.5l-.94 2.06-2.06.94zm10 10l.94 2.06.94-2.06 2.06-.94-2.06-.94-.94-2.06-.94 2.06-2.06.94z\"/><path d=\"M17.41 7.96l-1.37-1.37c-.4-.4-.92-.59-1.43-.59-.52 0-1.04.2-1.43.59L10.3 9.45l-7.72 7.72c-.78.78-.78 2.05 0 2.83L4 21.41c.39.39.9.59 1.41.59.51 0 1.02-.2 1.41-.59l7.78-7.78 2.81-2.81c.8-.78.8-2.07 0-2.86zM5.41 20L4 18.59l7.72-7.72 1.47 1.35L5.41 20z\"/>\n",
              "  </svg>\n",
              "      </button>\n",
              "      \n",
              "  <style>\n",
              "    .colab-df-container {\n",
              "      display:flex;\n",
              "      flex-wrap:wrap;\n",
              "      gap: 12px;\n",
              "    }\n",
              "\n",
              "    .colab-df-convert {\n",
              "      background-color: #E8F0FE;\n",
              "      border: none;\n",
              "      border-radius: 50%;\n",
              "      cursor: pointer;\n",
              "      display: none;\n",
              "      fill: #1967D2;\n",
              "      height: 32px;\n",
              "      padding: 0 0 0 0;\n",
              "      width: 32px;\n",
              "    }\n",
              "\n",
              "    .colab-df-convert:hover {\n",
              "      background-color: #E2EBFA;\n",
              "      box-shadow: 0px 1px 2px rgba(60, 64, 67, 0.3), 0px 1px 3px 1px rgba(60, 64, 67, 0.15);\n",
              "      fill: #174EA6;\n",
              "    }\n",
              "\n",
              "    [theme=dark] .colab-df-convert {\n",
              "      background-color: #3B4455;\n",
              "      fill: #D2E3FC;\n",
              "    }\n",
              "\n",
              "    [theme=dark] .colab-df-convert:hover {\n",
              "      background-color: #434B5C;\n",
              "      box-shadow: 0px 1px 3px 1px rgba(0, 0, 0, 0.15);\n",
              "      filter: drop-shadow(0px 1px 2px rgba(0, 0, 0, 0.3));\n",
              "      fill: #FFFFFF;\n",
              "    }\n",
              "  </style>\n",
              "\n",
              "      <script>\n",
              "        const buttonEl =\n",
              "          document.querySelector('#df-cc245296-3afa-4452-88f9-509bd1291bfd button.colab-df-convert');\n",
              "        buttonEl.style.display =\n",
              "          google.colab.kernel.accessAllowed ? 'block' : 'none';\n",
              "\n",
              "        async function convertToInteractive(key) {\n",
              "          const element = document.querySelector('#df-cc245296-3afa-4452-88f9-509bd1291bfd');\n",
              "          const dataTable =\n",
              "            await google.colab.kernel.invokeFunction('convertToInteractive',\n",
              "                                                     [key], {});\n",
              "          if (!dataTable) return;\n",
              "\n",
              "          const docLinkHtml = 'Like what you see? Visit the ' +\n",
              "            '<a target=\"_blank\" href=https://colab.research.google.com/notebooks/data_table.ipynb>data table notebook</a>'\n",
              "            + ' to learn more about interactive tables.';\n",
              "          element.innerHTML = '';\n",
              "          dataTable['output_type'] = 'display_data';\n",
              "          await google.colab.output.renderOutput(dataTable, element);\n",
              "          const docLink = document.createElement('div');\n",
              "          docLink.innerHTML = docLinkHtml;\n",
              "          element.appendChild(docLink);\n",
              "        }\n",
              "      </script>\n",
              "    </div>\n",
              "  </div>\n",
              "  "
            ]
          },
          "metadata": {},
          "execution_count": 6
        }
      ],
      "source": [
        "images = pd.Series(list(images), name = 'Images')\n",
        "ages = pd.Series(list(ages), name = 'Ages')\n",
        "genders = pd.Series(list(genders), name = 'Genders')\n",
        "\n",
        "df = pd.concat([images, ages, genders], axis=1)\n",
        "df.head()"
      ]
    },
    {
      "cell_type": "code",
      "execution_count": 7,
      "metadata": {
        "id": "vHzZrL8WP7oW"
      },
      "outputs": [],
      "source": [
        "def get_gender(x):\n",
        "    return \"Female\" if x else \"Male\""
      ]
    },
    {
      "cell_type": "code",
      "execution_count": 8,
      "metadata": {
        "colab": {
          "base_uri": "https://localhost:8080/",
          "height": 234
        },
        "id": "PhdEnXe5QK2W",
        "outputId": "d5a76d0f-b5b5-4e39-d1e2-00ab21655fcb"
      },
      "outputs": [
        {
          "output_type": "stream",
          "name": "stdout",
          "text": [
            "Age and Gender :  18 ,  Male\n"
          ]
        },
        {
          "output_type": "display_data",
          "data": {
            "text/plain": [
              "<PIL.JpegImagePlugin.JpegImageFile image mode=RGB size=200x200 at 0x7F1E00F91E80>"
            ],
            "image/png": "[encoded data removed]"
          },
          "metadata": {}
        }
      ],
      "source": [
        "# 0 corresponds to male, 1 corresponds to female.\n",
        "rand_number = random.randint(0,len(df))\n",
        "print(\"Age and Gender : \",df['Ages'][rand_number],\", \", get_gender(df['Genders'][rand_number]))\n",
        "display(df['Images'][rand_number])"
      ]
    },
    {
      "cell_type": "code",
      "execution_count": 9,
      "metadata": {
        "colab": {
          "base_uri": "https://localhost:8080/",
          "height": 300
        },
        "id": "QuGZha3jQORq",
        "outputId": "d144ad05-ae28-4dcc-91e6-55b46c612601"
      },
      "outputs": [
        {
          "output_type": "execute_result",
          "data": {
            "text/plain": [
              "              Ages      Genders\n",
              "count  5000.000000  5000.000000\n",
              "mean     33.592800     0.474400\n",
              "std      20.047059     0.499394\n",
              "min       1.000000     0.000000\n",
              "25%      23.000000     0.000000\n",
              "50%      30.000000     0.000000\n",
              "75%      45.000000     1.000000\n",
              "max     116.000000     1.000000"
            ],
            "text/html": [
              "\n",
              "  <div id=\"df-01bdcf2e-cfe8-4f1b-bdf1-cc9eaf951d6d\">\n",
              "    <div class=\"colab-df-container\">\n",
              "      <div>\n",
              "<style scoped>\n",
              "    .dataframe tbody tr th:only-of-type {\n",
              "        vertical-align: middle;\n",
              "    }\n",
              "\n",
              "    .dataframe tbody tr th {\n",
              "        vertical-align: top;\n",
              "    }\n",
              "\n",
              "    .dataframe thead th {\n",
              "        text-align: right;\n",
              "    }\n",
              "</style>\n",
              "<table border=\"1\" class=\"dataframe\">\n",
              "  <thead>\n",
              "    <tr style=\"text-align: right;\">\n",
              "      <th></th>\n",
              "      <th>Ages</th>\n",
              "      <th>Genders</th>\n",
              "    </tr>\n",
              "  </thead>\n",
              "  <tbody>\n",
              "    <tr>\n",
              "      <th>count</th>\n",
              "      <td>5000.000000</td>\n",
              "      <td>5000.000000</td>\n",
              "    </tr>\n",
              "    <tr>\n",
              "      <th>mean</th>\n",
              "      <td>33.592800</td>\n",
              "      <td>0.474400</td>\n",
              "    </tr>\n",
              "    <tr>\n",
              "      <th>std</th>\n",
              "      <td>20.047059</td>\n",
              "      <td>0.499394</td>\n",
              "    </tr>\n",
              "    <tr>\n",
              "      <th>min</th>\n",
              "      <td>1.000000</td>\n",
              "      <td>0.000000</td>\n",
              "    </tr>\n",
              "    <tr>\n",
              "      <th>25%</th>\n",
              "      <td>23.000000</td>\n",
              "      <td>0.000000</td>\n",
              "    </tr>\n",
              "    <tr>\n",
              "      <th>50%</th>\n",
              "      <td>30.000000</td>\n",
              "      <td>0.000000</td>\n",
              "    </tr>\n",
              "    <tr>\n",
              "      <th>75%</th>\n",
              "      <td>45.000000</td>\n",
              "      <td>1.000000</td>\n",
              "    </tr>\n",
              "    <tr>\n",
              "      <th>max</th>\n",
              "      <td>116.000000</td>\n",
              "      <td>1.000000</td>\n",
              "    </tr>\n",
              "  </tbody>\n",
              "</table>\n",
              "</div>\n",
              "      <button class=\"colab-df-convert\" onclick=\"convertToInteractive('df-01bdcf2e-cfe8-4f1b-bdf1-cc9eaf951d6d')\"\n",
              "              title=\"Convert this dataframe to an interactive table.\"\n",
              "              style=\"display:none;\">\n",
              "        \n",
              "  <svg xmlns=\"http://www.w3.org/2000/svg\" height=\"24px\"viewBox=\"0 0 24 24\"\n",
              "       width=\"24px\">\n",
              "    <path d=\"M0 0h24v24H0V0z\" fill=\"none\"/>\n",
              "    <path d=\"M18.56 5.44l.94 2.06.94-2.06 2.06-.94-2.06-.94-.94-2.06-.94 2.06-2.06.94zm-11 1L8.5 8.5l.94-2.06 2.06-.94-2.06-.94L8.5 2.5l-.94 2.06-2.06.94zm10 10l.94 2.06.94-2.06 2.06-.94-2.06-.94-.94-2.06-.94 2.06-2.06.94z\"/><path d=\"M17.41 7.96l-1.37-1.37c-.4-.4-.92-.59-1.43-.59-.52 0-1.04.2-1.43.59L10.3 9.45l-7.72 7.72c-.78.78-.78 2.05 0 2.83L4 21.41c.39.39.9.59 1.41.59.51 0 1.02-.2 1.41-.59l7.78-7.78 2.81-2.81c.8-.78.8-2.07 0-2.86zM5.41 20L4 18.59l7.72-7.72 1.47 1.35L5.41 20z\"/>\n",
              "  </svg>\n",
              "      </button>\n",
              "      \n",
              "  <style>\n",
              "    .colab-df-container {\n",
              "      display:flex;\n",
              "      flex-wrap:wrap;\n",
              "      gap: 12px;\n",
              "    }\n",
              "\n",
              "    .colab-df-convert {\n",
              "      background-color: #E8F0FE;\n",
              "      border: none;\n",
              "      border-radius: 50%;\n",
              "      cursor: pointer;\n",
              "      display: none;\n",
              "      fill: #1967D2;\n",
              "      height: 32px;\n",
              "      padding: 0 0 0 0;\n",
              "      width: 32px;\n",
              "    }\n",
              "\n",
              "    .colab-df-convert:hover {\n",
              "      background-color: #E2EBFA;\n",
              "      box-shadow: 0px 1px 2px rgba(60, 64, 67, 0.3), 0px 1px 3px 1px rgba(60, 64, 67, 0.15);\n",
              "      fill: #174EA6;\n",
              "    }\n",
              "\n",
              "    [theme=dark] .colab-df-convert {\n",
              "      background-color: #3B4455;\n",
              "      fill: #D2E3FC;\n",
              "    }\n",
              "\n",
              "    [theme=dark] .colab-df-convert:hover {\n",
              "      background-color: #434B5C;\n",
              "      box-shadow: 0px 1px 3px 1px rgba(0, 0, 0, 0.15);\n",
              "      filter: drop-shadow(0px 1px 2px rgba(0, 0, 0, 0.3));\n",
              "      fill: #FFFFFF;\n",
              "    }\n",
              "  </style>\n",
              "\n",
              "      <script>\n",
              "        const buttonEl =\n",
              "          document.querySelector('#df-01bdcf2e-cfe8-4f1b-bdf1-cc9eaf951d6d button.colab-df-convert');\n",
              "        buttonEl.style.display =\n",
              "          google.colab.kernel.accessAllowed ? 'block' : 'none';\n",
              "\n",
              "        async function convertToInteractive(key) {\n",
              "          const element = document.querySelector('#df-01bdcf2e-cfe8-4f1b-bdf1-cc9eaf951d6d');\n",
              "          const dataTable =\n",
              "            await google.colab.kernel.invokeFunction('convertToInteractive',\n",
              "                                                     [key], {});\n",
              "          if (!dataTable) return;\n",
              "\n",
              "          const docLinkHtml = 'Like what you see? Visit the ' +\n",
              "            '<a target=\"_blank\" href=https://colab.research.google.com/notebooks/data_table.ipynb>data table notebook</a>'\n",
              "            + ' to learn more about interactive tables.';\n",
              "          element.innerHTML = '';\n",
              "          dataTable['output_type'] = 'display_data';\n",
              "          await google.colab.output.renderOutput(dataTable, element);\n",
              "          const docLink = document.createElement('div');\n",
              "          docLink.innerHTML = docLinkHtml;\n",
              "          element.appendChild(docLink);\n",
              "        }\n",
              "      </script>\n",
              "    </div>\n",
              "  </div>\n",
              "  "
            ]
          },
          "metadata": {},
          "execution_count": 9
        }
      ],
      "source": [
        "df.describe()"
      ]
    },
    {
      "cell_type": "code",
      "execution_count": 10,
      "metadata": {
        "colab": {
          "base_uri": "https://localhost:8080/",
          "height": 369
        },
        "id": "VLb8uIp2QSRw",
        "outputId": "2cda7bcf-e50d-4e18-99b0-7daf9eaf69af"
      },
      "outputs": [
        {
          "output_type": "display_data",
          "data": {
            "text/plain": [
              "<Figure size 360x360 with 1 Axes>"
            ],
            "image/png": "[encoded data removed]"
          },
          "metadata": {
            "needs_background": "light"
          }
        }
      ],
      "source": [
        "sns.displot(df['Ages'],kde=True, bins=30);"
      ]
    },
    {
      "cell_type": "markdown",
      "source": [
        "# __Data modification__\n",
        "Too many faces of people between 0 and 4 years old. The model would fit too well to these ages and not enough to the other ages. On the other hand, there aren't many images of people over 80, which would cause the model to not train well enough on those ages. So it is better to just remove over 80s and only have a model that can predict the ages of people over 4 and under 80."
      ],
      "metadata": {
        "id": "8um9zy_3aLi-"
      }
    },
    {
      "cell_type": "code",
      "execution_count": 11,
      "metadata": {
        "colab": {
          "base_uri": "https://localhost:8080/"
        },
        "id": "kcbS4fUWSHvm",
        "outputId": "e9ba10bc-769e-4d30-dc20-1b5f825f10a1"
      },
      "outputs": [
        {
          "output_type": "stream",
          "name": "stdout",
          "text": [
            "Number of Samples before remove:  (5000, 3)\n",
            "Number of Samples after remove:  (4240, 3)\n"
          ]
        }
      ],
      "source": [
        "print(\"Number of Samples before remove: \", df.shape)\n",
        "df = df[(df['Ages'] > 4) & (df['Ages'] < 70)]\n",
        "print(\"Number of Samples after remove: \", df.shape)"
      ]
    },
    {
      "cell_type": "code",
      "source": [
        "sns.displot(df['Ages'],kde=True, bins=20);"
      ],
      "metadata": {
        "colab": {
          "base_uri": "https://localhost:8080/",
          "height": 369
        },
        "id": "XkIZIeJ_aVOm",
        "outputId": "d28d4730-eb36-4445-9508-77b4879a9691"
      },
      "execution_count": 25,
      "outputs": [
        {
          "output_type": "display_data",
          "data": {
            "text/plain": [
              "<Figure size 360x360 with 1 Axes>"
            ],
            "image/png": "[encoded data removed]"
          },
          "metadata": {
            "needs_background": "light"
          }
        }
      ]
    },
    {
      "cell_type": "markdown",
      "source": [
        "# __Prepare datasets__"
      ],
      "metadata": {
        "id": "oDUamQPsacSv"
      }
    },
    {
      "cell_type": "code",
      "execution_count": 12,
      "metadata": {
        "colab": {
          "base_uri": "https://localhost:8080/"
        },
        "id": "P6p7lycRQU5i",
        "outputId": "2558873e-494b-4710-f9d8-778abf905347"
      },
      "outputs": [
        {
          "output_type": "stream",
          "name": "stdout",
          "text": [
            "(4240, 200, 200, 3)\n",
            "(4240,)\n",
            "(4240,)\n"
          ]
        }
      ],
      "source": [
        "X = []\n",
        "Y = []  # age\n",
        "Z = []  # gender\n",
        "\n",
        "def make_X(a):\n",
        "    b = a.resize((size,size), Image.ANTIALIAS)\n",
        "    ar = np.asarray(b)\n",
        "    X.append(ar) \n",
        "        \n",
        "df['Images'].map(make_X)          \n",
        "X = np.array(X)\n",
        "Y = np.array(df['Ages'])\n",
        "Z = np.array(df['Genders'])\n",
        "\n",
        "print(X.shape)\n",
        "print(Y.shape)\n",
        "print(Z.shape)"
      ]
    },
    {
      "cell_type": "markdown",
      "source": [
        "## __Train and Validation data__"
      ],
      "metadata": {
        "id": "Ibgr2RGqajBi"
      }
    },
    {
      "cell_type": "code",
      "execution_count": 13,
      "metadata": {
        "colab": {
          "base_uri": "https://localhost:8080/"
        },
        "id": "Sa1_kLEtQxYx",
        "outputId": "45d6f3b2-7d48-4c73-8c9d-4226137902c9"
      },
      "outputs": [
        {
          "output_type": "stream",
          "name": "stdout",
          "text": [
            "(2840, 200, 200, 3)\n",
            "(2840,)\n",
            "(2840,)\n"
          ]
        }
      ],
      "source": [
        "sss = StratifiedShuffleSplit(n_splits=2, test_size=0.33)\n",
        "\n",
        "for train_index, test_index in sss.split(X, Y):\n",
        "#     print(\"TRAIN:\", train_index, \"TEST:\", test_index)\n",
        "  X_train, X_test = X[train_index], X[test_index]\n",
        "  y_train, y_test = Y[train_index], Y[test_index]\n",
        "  z_train, z_test = Z[train_index], Z[test_index]\n",
        "\n",
        "print(X_train.shape)\n",
        "print(y_train.shape)\n",
        "print(z_train.shape)"
      ]
    },
    {
      "cell_type": "markdown",
      "source": [
        "# Data Augmentation to reduce bias"
      ],
      "metadata": {
        "id": "AzndZL8eaodJ"
      }
    },
    {
      "cell_type": "code",
      "execution_count": 14,
      "metadata": {
        "id": "pYA9hUstQ0fY"
      },
      "outputs": [],
      "source": [
        "data_gen_train = ImageDataGenerator(\n",
        "        rescale=1./255,\n",
        "        featurewise_center=False,               # set input mean to 0 over the dataset\n",
        "        samplewise_center=False,                # set each sample mean to 0\n",
        "        featurewise_std_normalization=False,    # divide inputs by std of the dataset\n",
        "        samplewise_std_normalization=False,     # divide each input by its std\n",
        "        zca_whitening=False,                    # apply ZCA whitening\n",
        "        rotation_range=10,                      # randomly rotate images in the range (degrees, 0 to 180)\n",
        "        zoom_range = 0.1,                       # Randomly zoom image \n",
        "        width_shift_range=0.1,                  # randomly shift images horizontally (fraction of total width)\n",
        "        height_shift_range=0.1,                 # randomly shift images vertically (fraction of total height)\n",
        "        horizontal_flip=True,                  # randomly flip images\n",
        "        vertical_flip=False)                    # randomly flip images\n",
        "\n",
        "data_gen_val = ImageDataGenerator(rescale=1./255 ) \n",
        "\n",
        "data_gen_train.fit(X_train)\n",
        "data_gen_val.fit(X_test)"
      ]
    },
    {
      "cell_type": "markdown",
      "source": [
        "# Define model with Multiple outputs (1: predict age, 2: classify gender)"
      ],
      "metadata": {
        "id": "Y2ucxL0eavk9"
      }
    },
    {
      "cell_type": "code",
      "execution_count": 15,
      "metadata": {
        "colab": {
          "base_uri": "https://localhost:8080/"
        },
        "id": "_ZxrnQmYSbod",
        "outputId": "91fc2c9b-32dc-47e5-8f52-eacbfe00ca2d"
      },
      "outputs": [
        {
          "output_type": "stream",
          "name": "stdout",
          "text": [
            "Epoch 1/30\n",
            "84/84 [==============================] - 254s 3s/step - loss: 18.3810 - age_loss: 16.8341 - gender_loss: 1.5469 - age_mean_absolute_error: 16.8341 - gender_accuracy: 0.6673 - val_loss: 13.0346 - val_age_loss: 12.6270 - val_gender_loss: 0.4076 - val_age_mean_absolute_error: 12.6270 - val_gender_accuracy: 0.8407\n",
            "Epoch 2/30\n",
            "84/84 [==============================] - 245s 3s/step - loss: 11.7785 - age_loss: 11.3751 - gender_loss: 0.4034 - age_mean_absolute_error: 11.3751 - gender_accuracy: 0.8292 - val_loss: 10.6465 - val_age_loss: 10.3320 - val_gender_loss: 0.3145 - val_age_mean_absolute_error: 10.3320 - val_gender_accuracy: 0.8686\n",
            "Epoch 3/30\n",
            "84/84 [==============================] - 243s 3s/step - loss: 10.7601 - age_loss: 10.4107 - gender_loss: 0.3494 - age_mean_absolute_error: 10.4107 - gender_accuracy: 0.8574 - val_loss: 9.8475 - val_age_loss: 9.5682 - val_gender_loss: 0.2793 - val_age_mean_absolute_error: 9.5682 - val_gender_accuracy: 0.8821\n",
            "Epoch 4/30\n",
            "84/84 [==============================] - 253s 3s/step - loss: 10.2913 - age_loss: 9.9680 - gender_loss: 0.3233 - age_mean_absolute_error: 9.9680 - gender_accuracy: 0.8613 - val_loss: 10.1974 - val_age_loss: 9.9266 - val_gender_loss: 0.2708 - val_age_mean_absolute_error: 9.9266 - val_gender_accuracy: 0.8857\n",
            "Epoch 5/30\n",
            "84/84 [==============================] - 242s 3s/step - loss: 9.9113 - age_loss: 9.6178 - gender_loss: 0.2935 - age_mean_absolute_error: 9.6178 - gender_accuracy: 0.8827 - val_loss: 9.2547 - val_age_loss: 8.9251 - val_gender_loss: 0.3296 - val_age_mean_absolute_error: 8.9251 - val_gender_accuracy: 0.8593\n",
            "Epoch 6/30\n",
            "84/84 [==============================] - 253s 3s/step - loss: 9.3609 - age_loss: 9.1072 - gender_loss: 0.2537 - age_mean_absolute_error: 9.1072 - gender_accuracy: 0.8951 - val_loss: 9.0936 - val_age_loss: 8.8458 - val_gender_loss: 0.2479 - val_age_mean_absolute_error: 8.8458 - val_gender_accuracy: 0.9021\n",
            "Epoch 7/30\n",
            "84/84 [==============================] - 255s 3s/step - loss: 8.9508 - age_loss: 8.7232 - gender_loss: 0.2276 - age_mean_absolute_error: 8.7232 - gender_accuracy: 0.9077 - val_loss: 9.2487 - val_age_loss: 8.9965 - val_gender_loss: 0.2522 - val_age_mean_absolute_error: 8.9965 - val_gender_accuracy: 0.8964\n",
            "Epoch 8/30\n",
            "84/84 [==============================] - 251s 3s/step - loss: 8.6642 - age_loss: 8.4625 - gender_loss: 0.2017 - age_mean_absolute_error: 8.4625 - gender_accuracy: 0.9208 - val_loss: 9.2581 - val_age_loss: 9.0368 - val_gender_loss: 0.2213 - val_age_mean_absolute_error: 9.0368 - val_gender_accuracy: 0.9171\n",
            "Epoch 9/30\n",
            "84/84 [==============================] - 253s 3s/step - loss: 8.1694 - age_loss: 7.9869 - gender_loss: 0.1825 - age_mean_absolute_error: 7.9869 - gender_accuracy: 0.9296 - val_loss: 8.7956 - val_age_loss: 8.5404 - val_gender_loss: 0.2552 - val_age_mean_absolute_error: 8.5404 - val_gender_accuracy: 0.9057\n",
            "Epoch 10/30\n",
            "84/84 [==============================] - 252s 3s/step - loss: 8.0998 - age_loss: 7.9285 - gender_loss: 0.1713 - age_mean_absolute_error: 7.9285 - gender_accuracy: 0.9296 - val_loss: 8.6820 - val_age_loss: 8.4091 - val_gender_loss: 0.2729 - val_age_mean_absolute_error: 8.4091 - val_gender_accuracy: 0.8964\n",
            "Epoch 11/30\n",
            "84/84 [==============================] - 254s 3s/step - loss: 7.8951 - age_loss: 7.7534 - gender_loss: 0.1417 - age_mean_absolute_error: 7.7534 - gender_accuracy: 0.9454 - val_loss: 8.4981 - val_age_loss: 8.2723 - val_gender_loss: 0.2258 - val_age_mean_absolute_error: 8.2723 - val_gender_accuracy: 0.9179\n",
            "Epoch 12/30\n",
            "84/84 [==============================] - 245s 3s/step - loss: 7.5099 - age_loss: 7.3922 - gender_loss: 0.1177 - age_mean_absolute_error: 7.3922 - gender_accuracy: 0.9585 - val_loss: 8.8089 - val_age_loss: 8.5809 - val_gender_loss: 0.2280 - val_age_mean_absolute_error: 8.5809 - val_gender_accuracy: 0.9143\n",
            "Epoch 13/30\n",
            "84/84 [==============================] - 256s 3s/step - loss: 7.2058 - age_loss: 7.0987 - gender_loss: 0.1071 - age_mean_absolute_error: 7.0987 - gender_accuracy: 0.9641 - val_loss: 8.4003 - val_age_loss: 8.1646 - val_gender_loss: 0.2356 - val_age_mean_absolute_error: 8.1646 - val_gender_accuracy: 0.9164\n",
            "Epoch 14/30\n",
            "84/84 [==============================] - 257s 3s/step - loss: 7.3430 - age_loss: 7.2476 - gender_loss: 0.0954 - age_mean_absolute_error: 7.2476 - gender_accuracy: 0.9711 - val_loss: 8.4295 - val_age_loss: 8.1953 - val_gender_loss: 0.2342 - val_age_mean_absolute_error: 8.1953 - val_gender_accuracy: 0.9114\n",
            "Epoch 15/30\n",
            "84/84 [==============================] - 254s 3s/step - loss: 6.7800 - age_loss: 6.6940 - gender_loss: 0.0859 - age_mean_absolute_error: 6.6940 - gender_accuracy: 0.9708 - val_loss: 8.3117 - val_age_loss: 8.0917 - val_gender_loss: 0.2200 - val_age_mean_absolute_error: 8.0917 - val_gender_accuracy: 0.9221\n",
            "Epoch 16/30\n",
            "84/84 [==============================] - 254s 3s/step - loss: 6.7134 - age_loss: 6.6358 - gender_loss: 0.0776 - age_mean_absolute_error: 6.6358 - gender_accuracy: 0.9746 - val_loss: 8.1859 - val_age_loss: 7.9360 - val_gender_loss: 0.2499 - val_age_mean_absolute_error: 7.9360 - val_gender_accuracy: 0.9179\n",
            "Epoch 17/30\n",
            "84/84 [==============================] - 257s 3s/step - loss: 6.5865 - age_loss: 6.5152 - gender_loss: 0.0713 - age_mean_absolute_error: 6.5152 - gender_accuracy: 0.9803 - val_loss: 8.2719 - val_age_loss: 8.0061 - val_gender_loss: 0.2657 - val_age_mean_absolute_error: 8.0061 - val_gender_accuracy: 0.9121\n",
            "Epoch 18/30\n",
            "84/84 [==============================] - 255s 3s/step - loss: 6.3820 - age_loss: 6.3189 - gender_loss: 0.0631 - age_mean_absolute_error: 6.3189 - gender_accuracy: 0.9782 - val_loss: 8.0935 - val_age_loss: 7.8524 - val_gender_loss: 0.2412 - val_age_mean_absolute_error: 7.8524 - val_gender_accuracy: 0.9221\n",
            "Epoch 19/30\n",
            "84/84 [==============================] - 254s 3s/step - loss: 6.1024 - age_loss: 6.0450 - gender_loss: 0.0574 - age_mean_absolute_error: 6.0450 - gender_accuracy: 0.9817 - val_loss: 8.4108 - val_age_loss: 8.1598 - val_gender_loss: 0.2510 - val_age_mean_absolute_error: 8.1598 - val_gender_accuracy: 0.9200\n",
            "Epoch 20/30\n",
            "84/84 [==============================] - 255s 3s/step - loss: 6.1556 - age_loss: 6.0939 - gender_loss: 0.0616 - age_mean_absolute_error: 6.0939 - gender_accuracy: 0.9835 - val_loss: 8.0405 - val_age_loss: 7.7746 - val_gender_loss: 0.2659 - val_age_mean_absolute_error: 7.7746 - val_gender_accuracy: 0.9164\n",
            "Epoch 21/30\n",
            "84/84 [==============================] - 257s 3s/step - loss: 6.0485 - age_loss: 5.9998 - gender_loss: 0.0487 - age_mean_absolute_error: 5.9998 - gender_accuracy: 0.9859 - val_loss: 8.1722 - val_age_loss: 7.9044 - val_gender_loss: 0.2678 - val_age_mean_absolute_error: 7.9044 - val_gender_accuracy: 0.9114\n",
            "Epoch 22/30\n",
            "84/84 [==============================] - 256s 3s/step - loss: 5.7057 - age_loss: 5.6670 - gender_loss: 0.0387 - age_mean_absolute_error: 5.6670 - gender_accuracy: 0.9873 - val_loss: 8.1798 - val_age_loss: 7.8993 - val_gender_loss: 0.2805 - val_age_mean_absolute_error: 7.8993 - val_gender_accuracy: 0.9150\n",
            "Epoch 23/30\n",
            "84/84 [==============================] - 242s 3s/step - loss: 5.7578 - age_loss: 5.7202 - gender_loss: 0.0377 - age_mean_absolute_error: 5.7202 - gender_accuracy: 0.9894 - val_loss: 8.1380 - val_age_loss: 7.8743 - val_gender_loss: 0.2637 - val_age_mean_absolute_error: 7.8743 - val_gender_accuracy: 0.9179\n",
            "Epoch 24/30\n",
            "84/84 [==============================] - 255s 3s/step - loss: 5.6065 - age_loss: 5.5707 - gender_loss: 0.0357 - age_mean_absolute_error: 5.5707 - gender_accuracy: 0.9905 - val_loss: 7.9885 - val_age_loss: 7.7126 - val_gender_loss: 0.2759 - val_age_mean_absolute_error: 7.7126 - val_gender_accuracy: 0.9214\n",
            "Epoch 25/30\n",
            "84/84 [==============================] - 253s 3s/step - loss: 5.3495 - age_loss: 5.3166 - gender_loss: 0.0329 - age_mean_absolute_error: 5.3166 - gender_accuracy: 0.9933 - val_loss: 7.9511 - val_age_loss: 7.6475 - val_gender_loss: 0.3036 - val_age_mean_absolute_error: 7.6475 - val_gender_accuracy: 0.9143\n",
            "Epoch 26/30\n",
            "84/84 [==============================] - 255s 3s/step - loss: 5.2734 - age_loss: 5.2452 - gender_loss: 0.0282 - age_mean_absolute_error: 5.2452 - gender_accuracy: 0.9926 - val_loss: 7.9489 - val_age_loss: 7.6456 - val_gender_loss: 0.3033 - val_age_mean_absolute_error: 7.6456 - val_gender_accuracy: 0.9164\n",
            "Epoch 27/30\n",
            "84/84 [==============================] - 247s 3s/step - loss: 5.4304 - age_loss: 5.3989 - gender_loss: 0.0315 - age_mean_absolute_error: 5.3989 - gender_accuracy: 0.9933 - val_loss: 8.1090 - val_age_loss: 7.8247 - val_gender_loss: 0.2843 - val_age_mean_absolute_error: 7.8247 - val_gender_accuracy: 0.9221\n",
            "Epoch 28/30\n",
            "84/84 [==============================] - 249s 3s/step - loss: 5.0770 - age_loss: 5.0578 - gender_loss: 0.0192 - age_mean_absolute_error: 5.0578 - gender_accuracy: 0.9954 - val_loss: 8.1434 - val_age_loss: 7.8510 - val_gender_loss: 0.2925 - val_age_mean_absolute_error: 7.8510 - val_gender_accuracy: 0.9186\n",
            "Epoch 29/30\n",
            "84/84 [==============================] - 254s 3s/step - loss: 5.1645 - age_loss: 5.1436 - gender_loss: 0.0209 - age_mean_absolute_error: 5.1436 - gender_accuracy: 0.9947 - val_loss: 8.0769 - val_age_loss: 7.8023 - val_gender_loss: 0.2747 - val_age_mean_absolute_error: 7.8023 - val_gender_accuracy: 0.9243\n",
            "Epoch 30/30\n",
            "84/84 [==============================] - 251s 3s/step - loss: 4.8577 - age_loss: 4.8374 - gender_loss: 0.0202 - age_mean_absolute_error: 4.8374 - gender_accuracy: 0.9951 - val_loss: 8.1801 - val_age_loss: 7.8565 - val_gender_loss: 0.3237 - val_age_mean_absolute_error: 7.8565 - val_gender_accuracy: 0.9136\n"
          ]
        }
      ],
      "source": [
        "inputs = Input(shape=(size, size, 3), name='input')\n",
        "\n",
        "x = Conv2D(32, (3,3), activation='relu', name='C32')(inputs)\n",
        "x = MaxPooling2D(2,2)(x)\n",
        "\n",
        "x = Conv2D(64, (3,3), activation='relu', name='C64')(x)\n",
        "x = MaxPooling2D(2,2)(x)\n",
        "\n",
        "x = Conv2D(128, (3,3), activation='relu', name='C128')(x)\n",
        "x = MaxPooling2D(2,2)(x)\n",
        "\n",
        "x = Conv2D(256, kernel_size=(3, 3), activation='relu') (x)\n",
        "x = MaxPooling2D(pool_size=(2, 2)) (x)\n",
        "\n",
        "x = Flatten()(x)\n",
        "# x = Dense(128, activation='relu', name='D64')(x)\n",
        "\n",
        "# x = Dense(64, activation='relu', name='D16')(x)\n",
        "# x = Dropout(0.2)(x)\n",
        "\n",
        "dense_1 = Dense(256, activation='relu') (x)\n",
        "dense_2 = Dense(256, activation='relu') (x)\n",
        "\n",
        "dropout_1 = Dropout(0.3) (dense_1)\n",
        "dropout_2 = Dropout(0.3) (dense_2)\n",
        "\n",
        "\n",
        "age_out    = Dense(1,activation='relu', name='age')(dropout_1)\n",
        "gender_out = Dense(1, activation='sigmoid', name='gender')(dropout_2)\n",
        "\n",
        "model = Model(inputs=inputs, outputs=[age_out, gender_out])\n",
        "\n",
        "model.compile(loss={'age': 'mean_absolute_error','gender': 'binary_crossentropy'},\n",
        "              optimizer=optimizers.Adam(learning_rate=0.0001),\n",
        "              metrics={'age': 'mean_absolute_error', 'gender': 'accuracy'})\n",
        "\n",
        "history = model.fit(X_train, {'age': y_train, 'gender': z_train}, epochs=n_epochs, batch_size= n_batch_size,validation_data=(X_test,{'age': y_test, 'gender': z_test}))\n"
      ]
    },
    {
      "cell_type": "markdown",
      "source": [
        "# Evaluation results"
      ],
      "metadata": {
        "id": "0Ic-ol5sa2yy"
      }
    },
    {
      "cell_type": "code",
      "source": [
        "_, age_loss,gender_loss, age_mean_absolute_error,gender_accuracy = model.evaluate(X_train,[y_train,z_train])\n",
        "print(\"\\nTrain Status:\")\n",
        "print(\"Age_MAE = \",age_mean_absolute_error)\n",
        "print(\"Gender_accuracy = \",gender_accuracy,\"\\n\")\n",
        "\n",
        "_, age_loss,gender_loss, age_mean_absolute_error,gender_accuracy = model.evaluate(X_test,[y_test,z_test])\n",
        "print(\"\\nValidation Status:\")\n",
        "print(\"Age_MAE = \",age_mean_absolute_error)\n",
        "print(\"Gender_accuracy = \",gender_accuracy)"
      ],
      "metadata": {
        "colab": {
          "base_uri": "https://localhost:8080/"
        },
        "id": "kry5cYUTXpbg",
        "outputId": "8353e635-20fd-4b69-d422-c91b0a1fac98"
      },
      "execution_count": 16,
      "outputs": [
        {
          "output_type": "stream",
          "name": "stdout",
          "text": [
            "89/89 [==============================] - 60s 668ms/step - loss: 3.7976 - age_loss: 3.7892 - gender_loss: 0.0083 - age_mean_absolute_error: 3.7892 - gender_accuracy: 0.9989\n",
            "\n",
            "Train Status:\n",
            "Age_MAE =  3.789242744445801\n",
            "Gender_accuracy =  0.9989436864852905 \n",
            "\n",
            "44/44 [==============================] - 29s 655ms/step - loss: 8.1801 - age_loss: 7.8565 - gender_loss: 0.3237 - age_mean_absolute_error: 7.8565 - gender_accuracy: 0.9136\n",
            "\n",
            "Validation Status:\n",
            "Age_MAE =  7.856460094451904\n",
            "Gender_accuracy =  0.9135714173316956\n"
          ]
        }
      ]
    },
    {
      "cell_type": "markdown",
      "source": [
        "# Evaluating one sample data"
      ],
      "metadata": {
        "id": "D_-pez-pa8bm"
      }
    },
    {
      "cell_type": "code",
      "source": [
        "# 0 corresponds to male, 1 corresponds to female.\n",
        "rand_number = random.randint(0,len(X_test))\n",
        "img=X_test[rand_number]\n",
        "plt.imshow(img)\n",
        "print(\"Actual Age and Gender    : \",y_test[rand_number],\", \", get_gender(z_test[rand_number]))\n",
        "\n",
        "predicted_age, predicted_gender= model.predict(img.reshape(-1,size,size,3))\n",
        "print(\"Predicted Age and Gender : \",np.round(predicted_age)[0][0],\", \",get_gender(np.round(predicted_gender)[0][0]))"
      ],
      "metadata": {
        "colab": {
          "base_uri": "https://localhost:8080/",
          "height": 321
        },
        "id": "OiC-Pd1sXqCf",
        "outputId": "a52e2381-8748-4b7e-cd1d-8f0d25750f69"
      },
      "execution_count": 22,
      "outputs": [
        {
          "output_type": "stream",
          "name": "stdout",
          "text": [
            "Actual Age and Gender    :  30 ,  Female\n",
            "1/1 [==============================] - 0s 45ms/step\n",
            "Predicted Age and Gender :  29.0 ,  Female\n"
          ]
        },
        {
          "output_type": "display_data",
          "data": {
            "text/plain": [
              "<Figure size 432x288 with 1 Axes>"
            ],
            "image/png": "[encoded data removed]"
          },
          "metadata": {
            "needs_background": "light"
          }
        }
      ]
    },
    {
      "cell_type": "code",
      "source": [
        "from google.colab import drive\n",
        "drive.mount('/content/drive')"
      ],
      "metadata": {
        "colab": {
          "base_uri": "https://localhost:8080/"
        },
        "id": "i4dJT5G6X4IR",
        "outputId": "b07f0030-53ee-49be-dad1-7104b48ed57e"
      },
      "execution_count": 23,
      "outputs": [
        {
          "output_type": "stream",
          "name": "stdout",
          "text": [
            "Mounted at /content/drive\n"
          ]
        }
      ]
    },
    {
      "cell_type": "code",
      "source": [
        "# serialize model to JSON and serialize weights to HDF5\n",
        "\n",
        "model_json = model.to_json()\n",
        "with open(\"/content/drive/MyDrive/Colab Notebooks/Zummit Infolabs/gender detection and age prediction/model.json\", \"w\") as json_file:\n",
        "    json_file.write(model_json)\n",
        "    \n",
        "model.save_weights(\"/content/drive/MyDrive/Colab Notebooks/Zummit Infolabs/gender detection and age prediction/model.h5\")"
      ],
      "metadata": {
        "id": "-AIuizYbZE-X"
      },
      "execution_count": 24,
      "outputs": []
    }
  ],
  "metadata": {
    "colab": {
      "provenance": [],
      "authorship_tag": "ABX9TyPGJDahId4I+kYOeklQgBb3"
    },
    "kernelspec": {
      "display_name": "Python 3",
      "name": "python3"
    },
    "language_info": {
      "name": "python"
    }
  },
  "nbformat": 4,
  "nbformat_minor": 0
}